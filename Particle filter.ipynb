{
 "cells": [
  {
   "cell_type": "markdown",
   "metadata": {},
   "source": [
    "**question 1**"
   ]
  },
  {
   "cell_type": "code",
   "execution_count": 1,
   "metadata": {},
   "outputs": [],
   "source": [
    "import numpy as np"
   ]
  },
  {
   "cell_type": "code",
   "execution_count": 15,
   "metadata": {},
   "outputs": [],
   "source": [
    "#part 1.a\n",
    "Px = 3\n",
    "Py = 5\n",
    "teta = 0.7*np.pi\n",
    "omega = 0.2#rad/sec\n",
    "state_vector = np.matrix(([3],[5],[0.7*np.pi],[0.2]))"
   ]
  },
  {
   "cell_type": "code",
   "execution_count": 22,
   "metadata": {},
   "outputs": [],
   "source": [
    "def move_equations(Px,Py,teta,omega):\n",
    "    v = 10\n",
    "    delta_t = 0.2\n",
    "    Px_next = Px + (v/teta)*(np.sin(teta + (delta_t*teta)))-np.sin(teta)\n",
    "    Py_next = Py + (v/teta)*(np.cos(teta) - np.cos(teta + (delta_t * teta)))\n",
    "    Teta_new = teta + (0.2*teta)\n",
    "    new_vector = np.matrix([Px_next,Py_next,Teta_new]).transpose()\n",
    "    return new_vector"
   ]
  },
  {
   "cell_type": "code",
   "execution_count": 23,
   "metadata": {},
   "outputs": [
    {
     "name": "stdout",
     "output_type": "stream",
     "text": [
      "[[4.38165382]\n",
      " [6.3119889 ]\n",
      " [2.63893783]]\n"
     ]
    }
   ],
   "source": [
    "print(move_equations(Px,Py,teta,omega))"
   ]
  },
  {
   "cell_type": "markdown",
   "metadata": {},
   "source": [
    "**question 2**"
   ]
  },
  {
   "cell_type": "code",
   "execution_count": 24,
   "metadata": {},
   "outputs": [
    {
     "name": "stdout",
     "output_type": "stream",
     "text": [
      "[[4.38165382]\n",
      " [6.3119889 ]\n",
      " [2.63893783]]\n"
     ]
    }
   ],
   "source": [
    "#part 1.b\n",
    "print(move_equations(Px,Py,teta,0))"
   ]
  },
  {
   "cell_type": "code",
   "execution_count": 119,
   "metadata": {},
   "outputs": [],
   "source": [
    "def gloabal_coordinations(obs, Xp, Yp, teta):\n",
    "    F_matrix = np.matrix(([round(np.cos(teta),2) , round(-1.0*np.sin(teta),2) , Xp] , [ round(np.sin(teta),2) ,round(np.cos(teta),2) , Yp] ,[ 0.0,0.0,1.0]))\n",
    "    observe_vector = np.matrix([obs[0],obs[1],1]).transpose()\n",
    "    return F_matrix * observe_vector\n",
    "def orientation_coordinations(landmark,Xp,Yp,teta):\n",
    "    global_matrix = np.matrix([landmark[0],landmark[1],1]).transpose()\n",
    "    inverseFmatrix = np.matrix(([round(np.cos(teta),2) , round(-1.0*np.sin(teta),2) , Xp] , [ round(np.sin(teta),2) ,round(np.cos(teta),2) , Yp] ,[ 0.0,0.0,1.0])).I\n",
    "    return  inverseFmatrix * global_matrix "
   ]
  },
  {
   "cell_type": "code",
   "execution_count": 120,
   "metadata": {},
   "outputs": [
    {
     "name": "stdout",
     "output_type": "stream",
     "text": [
      "[[10.]\n",
      " [21.]\n",
      " [ 1.]]\n",
      "[[ 9.66]\n",
      " [57.84]\n",
      " [ 1.  ]]\n"
     ]
    }
   ],
   "source": [
    "#part 2 a\n",
    "Xp =10.0\n",
    "Yp = 21.0\n",
    "teta = 30.0\n",
    "radian_teta = teta * np.pi / 180\n",
    "\n",
    "obs1 = (0,0)\n",
    "obs2 = (18,32)\n",
    "print(gloabal_coordinations(obs1,Xp,Yp,radian_teta))\n",
    "print(gloabal_coordinations(obs2,Xp,Yp,radian_teta))"
   ]
  },
  {
   "cell_type": "code",
   "execution_count": 121,
   "metadata": {},
   "outputs": [
    {
     "data": {
      "text/plain": [
       "matrix([[  4.04210944],\n",
       "        [-14.96672957],\n",
       "        [  1.        ]])"
      ]
     },
     "execution_count": 121,
     "metadata": {},
     "output_type": "execute_result"
    }
   ],
   "source": [
    "#part 2 b\n",
    "landmark = (21,10)\n",
    "orintation_voordinations(landmark,Xp,Yp,radian_teta)"
   ]
  },
  {
   "cell_type": "code",
   "execution_count": 122,
   "metadata": {},
   "outputs": [
    {
     "data": {
      "text/plain": [
       "matrix([[ 11.],\n",
       "        [-11.],\n",
       "        [  1.]])"
      ]
     },
     "execution_count": 122,
     "metadata": {},
     "output_type": "execute_result"
    }
   ],
   "source": [
    "#part 2 c\n",
    "orientation_coordinations(landmark,Xp,Yp,0)"
   ]
  },
  {
   "cell_type": "markdown",
   "metadata": {},
   "source": [
    "**question 3*"
   ]
  },
  {
   "cell_type": "code",
   "execution_count": null,
   "metadata": {},
   "outputs": [],
   "source": []
  }
 ],
 "metadata": {
  "kernelspec": {
   "display_name": "Python 3",
   "language": "python",
   "name": "python3"
  },
  "language_info": {
   "codemirror_mode": {
    "name": "ipython",
    "version": 3
   },
   "file_extension": ".py",
   "mimetype": "text/x-python",
   "name": "python",
   "nbconvert_exporter": "python",
   "pygments_lexer": "ipython3",
   "version": "3.8.3"
  }
 },
 "nbformat": 4,
 "nbformat_minor": 4
}
